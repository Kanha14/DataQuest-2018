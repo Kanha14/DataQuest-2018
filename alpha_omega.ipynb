{
 "cells": [
  {
   "cell_type": "code",
   "execution_count": null,
   "metadata": {
    "collapsed": true
   },
   "outputs": [],
   "source": [
    "import pandas as pd\n",
    "import numpy as np\n",
    "import matplotlib.pyplot as plt\n",
    "%matplotlib inline\n",
    "import seaborn as sns\n",
    "pd.set_option('display.max_columns', None)\n",
    "\n",
    "from sklearn.metrics import accuracy_score\n",
    "from sklearn.metrics import confusion_matrix\n",
    "from sklearn.metrics import auc\n",
    "from sklearn.metrics import roc_curve\n",
    "from sklearn.metrics import roc_auc_score\n",
    "from sklearn.cross_validation import train_test_split\n",
    "import xgboost as xgb"
   ]
  },
  {
   "cell_type": "code",
   "execution_count": null,
   "metadata": {
    "collapsed": true
   },
   "outputs": [],
   "source": [
    "train_data = pd.read_csv('train_DaEJRFg.csv')\n",
    "test_data = pd.read_csv('test_TQDFDgg.csv')"
   ]
  },
  {
   "cell_type": "code",
   "execution_count": null,
   "metadata": {
    "collapsed": true
   },
   "outputs": [],
   "source": [
    "train_data.head()"
   ]
  },
  {
   "cell_type": "code",
   "execution_count": null,
   "metadata": {
    "collapsed": true
   },
   "outputs": [],
   "source": [
    "var = ['incident_tehsil', 'cause_of_emergency', 'roadway_feature', 'road_type']\n",
    "for var in var:\n",
    "    print (var)\n",
    "    print train_data[var].value_counts()"
   ]
  },
  {
   "cell_type": "code",
   "execution_count": null,
   "metadata": {
    "collapsed": true
   },
   "outputs": [],
   "source": [
    "train_data.dtypes"
   ]
  },
  {
   "cell_type": "code",
   "execution_count": null,
   "metadata": {
    "collapsed": true
   },
   "outputs": [],
   "source": [
    "list(train_data.columns.values)"
   ]
  },
  {
   "cell_type": "code",
   "execution_count": null,
   "metadata": {
    "collapsed": true
   },
   "outputs": [],
   "source": [
    "for x in list(train_data.columns.values):\n",
    "    print \"Null values in \" + str(x) + \" are :\" + str(sum(train_data[x].isnull()))"
   ]
  },
  {
   "cell_type": "code",
   "execution_count": null,
   "metadata": {
    "collapsed": true
   },
   "outputs": [],
   "source": [
    "for col in list(train_data.columns.values):\n",
    "    print \"Unique values in \" + str(col) + \" are :\" + str(len(train_data[col].unique()))"
   ]
  },
  {
   "cell_type": "code",
   "execution_count": null,
   "metadata": {
    "collapsed": true
   },
   "outputs": [],
   "source": [
    "train_data.corr()"
   ]
  },
  {
   "cell_type": "code",
   "execution_count": null,
   "metadata": {
    "collapsed": true
   },
   "outputs": [],
   "source": [
    "data = train_data[train_data['criticality']==1]\n",
    "print len(data)\n",
    "print len((data['incident_location'].unique()))"
   ]
  },
  {
   "cell_type": "code",
   "execution_count": null,
   "metadata": {
    "collapsed": true
   },
   "outputs": [],
   "source": [
    "train_data.describe(include='all')"
   ]
  },
  {
   "cell_type": "code",
   "execution_count": null,
   "metadata": {
    "collapsed": true
   },
   "outputs": [],
   "source": [
    "train_data['hour'] = train_data['incident_time'].str[:2].astype(int)\n",
    "train_data['minute'] = train_data['incident_time'].str[3:5].astype(int)\n",
    "train_data['second'] = train_data['incident_time'].str[6:].astype(int)\n",
    "\n",
    "test_data['hour'] = test_data['incident_time'].str[:2].astype(int)\n",
    "test_data['minute'] = test_data['incident_time'].str[3:5].astype(int)\n",
    "test_data['second'] = test_data['incident_time'].str[6:].astype(int)"
   ]
  },
  {
   "cell_type": "code",
   "execution_count": null,
   "metadata": {
    "collapsed": true
   },
   "outputs": [],
   "source": [
    "train_data['date'] = train_data['incident_date'].str[:2].astype(int)\n",
    "train_data['month'] = train_data['incident_date'].str[3:5].astype(int)\n",
    "train_data['year'] = train_data['incident_date'].str[6:].astype(int)\n",
    "\n",
    "test_data['date'] = test_data['incident_date'].str[:2].astype(int)\n",
    "test_data['month'] = test_data['incident_date'].str[3:5].astype(int)\n",
    "test_data['year'] = test_data['incident_date'].str[6:].astype(int)"
   ]
  },
  {
   "cell_type": "code",
   "execution_count": null,
   "metadata": {
    "collapsed": true
   },
   "outputs": [],
   "source": [
    "from geopy.geocoders import Nominatim\n",
    "geolocator = Nominatim()\n",
    "location = geolocator.geocode(\"ISBT raipur dehradun\") \n",
    "print(location.address)\n",
    "print((location.latitude, location.longitude))"
   ]
  },
  {
   "cell_type": "code",
   "execution_count": null,
   "metadata": {
    "collapsed": true
   },
   "outputs": [],
   "source": [
    "train_data['surrounding_area'].unique()"
   ]
  },
  {
   "cell_type": "code",
   "execution_count": null,
   "metadata": {
    "collapsed": true
   },
   "outputs": [],
   "source": [
    "train_data.incident_tehsil.replace(['Raipur', 'Sahaspur', 'Dehradun', 'Doiwala', 'Vikasnagar',\n",
    "       'Chakrata', 'Kalsi'], [1, 2, 3, 4, 5, 6, 7], inplace=True)\n",
    "train_data.cause_of_emergency.replace(['Multiple Vehicular Incident', '2 Wheeler accidents',\n",
    "       'Non motorised vehicle accidents(Bullock cart,Bicycle,Rickshaw,Push cart)',\n",
    "       'MVC - Pedestrian (Run Over/Hit & Run)', 'Vehicle role over/Skid',\n",
    "       'Auto (3 Wheeler accidents)', 'MVC-Thrown off from Vehicle',\n",
    "       'MVC-Fixed object (Divider)', 'MCI',\n",
    "       'Vehicle -Fall From Height etc.', 'Railroad Train/Other Object',\n",
    "       'MVC-Non traffic inside a parked vehicle/Skidding', 'MVC-MV',\n",
    "       'Extrication>20mts'], [1, 2, 3, 4, 5, 6, 7, 8, 9, 10, 11, 12, 13, 14], inplace=True)\n",
    "train_data.road_type.replace(['HIW', 'LOC'], [1, 2], inplace=True)\n",
    "train_data.roadway_feature.replace(['CUR', 'INT', 'SLP', 'UNK', 'STR'], [1, 2, 3, 4, 5], inplace=True)\n",
    "train_data.surrounding_area.replace(['FOR', 'AGL', 'HOSP', 'HIL', 'MAR', 'COL'], [1, 2, 3, 4, 5, 6], inplace=True)"
   ]
  },
  {
   "cell_type": "code",
   "execution_count": null,
   "metadata": {
    "collapsed": true
   },
   "outputs": [],
   "source": [
    "test_data.incident_tehsil.replace(['Raipur', 'Sahaspur', 'Dehradun', 'Doiwala', 'Vikasnagar',\n",
    "       'Chakrata', 'Kalsi'], [1, 2, 3, 4, 5, 6, 7], inplace=True)\n",
    "test_data.cause_of_emergency.replace(['Multiple Vehicular Incident', '2 Wheeler accidents',\n",
    "       'Non motorised vehicle accidents(Bullock cart,Bicycle,Rickshaw,Push cart)',\n",
    "       'MVC - Pedestrian (Run Over/Hit & Run)', 'Vehicle role over/Skid',\n",
    "       'Auto (3 Wheeler accidents)', 'MVC-Thrown off from Vehicle',\n",
    "       'MVC-Fixed object (Divider)', 'MCI',\n",
    "       'Vehicle -Fall From Height etc.', 'Railroad Train/Other Object',\n",
    "       'MVC-Non traffic inside a parked vehicle/Skidding', 'MVC-MV',\n",
    "       'Extrication>20mts'], [1, 2, 3, 4, 5, 6, 7, 8, 9, 10, 11, 12, 13, 14], inplace=True)\n",
    "test_data.road_type.replace(['HIW', 'LOC'], [1, 2], inplace=True)\n",
    "test_data.roadway_feature.replace(['CUR', 'INT', 'SLP', 'UNK', 'STR'], [1, 2, 3, 4, 5], inplace=True)\n",
    "test_data.surrounding_area.replace(['FOR', 'AGL', 'HOSP', 'HIL', 'MAR', 'COL'], [1, 2, 3, 4, 5, 6], inplace=True)"
   ]
  },
  {
   "cell_type": "code",
   "execution_count": null,
   "metadata": {
    "collapsed": true
   },
   "outputs": [],
   "source": [
    "train_data['Date']=pd.to_datetime((train_data.year*10000+train_data.month*100+train_data.date).apply(str),format='%Y%m%d')\n",
    "\n",
    "test_data['Date']=pd.to_datetime((test_data.year*10000+test_data.month*100+test_data.date).apply(str),format='%Y%m%d')"
   ]
  },
  {
   "cell_type": "code",
   "execution_count": null,
   "metadata": {
    "collapsed": true
   },
   "outputs": [],
   "source": [
    "train_data['weekday'] = train_data['Date'].dt.dayofweek\n",
    "test_data['weekday'] = test_data['Date'].dt.dayofweek"
   ]
  },
  {
   "cell_type": "code",
   "execution_count": null,
   "metadata": {
    "collapsed": true
   },
   "outputs": [],
   "source": [
    "train_data['season'] = train_data['month']\n",
    "test_data['season'] = test_data['month']"
   ]
  },
  {
   "cell_type": "code",
   "execution_count": null,
   "metadata": {
    "collapsed": true
   },
   "outputs": [],
   "source": [
    "train_data['season']=train_data['season'].replace([11,12,1,2], 1)\n",
    "train_data['season']=train_data['season'].replace([3,4,5,6], 2)\n",
    "train_data['season']=train_data['season'].replace([7,8,9,10], 3)\n",
    "\n",
    "test_data['season']=test_data['season'].replace([11,12,1,2], 1)\n",
    "test_data['season']=test_data['season'].replace([3,4,5,6], 2)\n",
    "test_data['season']=test_data['season'].replace([7,8,9,10], 3)"
   ]
  },
  {
   "cell_type": "code",
   "execution_count": null,
   "metadata": {
    "collapsed": true
   },
   "outputs": [],
   "source": [
    "train_data['hour_bin'] = train_data['hour']\n",
    "test_data['hour_bin'] = test_data['hour']"
   ]
  },
  {
   "cell_type": "code",
   "execution_count": null,
   "metadata": {
    "collapsed": true
   },
   "outputs": [],
   "source": [
    "train_data['hour_bin']=train_data['hour_bin'].replace([0,1,2,3,4,5], 1)\n",
    "train_data['hour_bin']=train_data['hour_bin'].replace([6,7,8,9,10,11], 2)\n",
    "train_data['hour_bin']=train_data['hour_bin'].replace([12,13,14,15,16,17], 3)\n",
    "train_data['hour_bin']=train_data['hour_bin'].replace([18,19,20,11,22,23], 4)\n",
    "\n",
    "test_data['hour_bin']=test_data['hour_bin'].replace([0,1,2,3,4,5], 1)\n",
    "test_data['hour_bin']=test_data['hour_bin'].replace([6,7,8,9,10,11], 2)\n",
    "test_data['hour_bin']=test_data['hour_bin'].replace([12,13,14,15,16,17], 3)\n",
    "test_data['hour_bin']=test_data['hour_bin'].replace([18,19,20,11,22,23], 4)"
   ]
  },
  {
   "cell_type": "code",
   "execution_count": null,
   "metadata": {
    "collapsed": true
   },
   "outputs": [],
   "source": [
    "train_data.head()"
   ]
  },
  {
   "cell_type": "code",
   "execution_count": null,
   "metadata": {
    "collapsed": true
   },
   "outputs": [],
   "source": [
    "test_data.head()"
   ]
  },
  {
   "cell_type": "code",
   "execution_count": null,
   "metadata": {
    "collapsed": true
   },
   "outputs": [],
   "source": [
    "X = train_data.drop(['victim_id','incident_time','incident_date','incident_location','criticality','Date', 'second', 'minute', 'hour', 'month'] ,axis=1)\n",
    "Y = train_data['criticality']"
   ]
  },
  {
   "cell_type": "code",
   "execution_count": null,
   "metadata": {
    "collapsed": true
   },
   "outputs": [],
   "source": [
    "X_test = test_data.drop(['victim_id','incident_time','incident_date','incident_location','Date', 'second', 'minute','hour', 'month'], axis=1)"
   ]
  },
  {
   "cell_type": "code",
   "execution_count": null,
   "metadata": {
    "collapsed": true
   },
   "outputs": [],
   "source": [
    "x_train,x_test,y_train,y_test=train_test_split(X,Y, test_size=0.20)"
   ]
  },
  {
   "cell_type": "code",
   "execution_count": null,
   "metadata": {
    "collapsed": true
   },
   "outputs": [],
   "source": [
    "from xgboost import XGBClassifier\n",
    "\n",
    "xgb_model = XGBClassifier(n_estimators=1000,\n",
    "                   max_depth=1,\n",
    "                   min_child_weight=11,\n",
    "                   learning_rate=0.1,\n",
    "                   subsample=0.75,\n",
    "                   colsample_bytree=0.9,\n",
    "                   gamma=0.0,\n",
    "                   objective='binary:logistic',\n",
    "                   nthread=4,\n",
    "                   scale_pos_weight=1,\n",
    "                   seed=7\n",
    "                  )\n",
    "\n",
    "xgb_model.fit(x_train, y_train)\n",
    "\n",
    "pred1 = xgb_model.predict(x_train)\n",
    "pred2 = xgb_model.predict(x_test)"
   ]
  },
  {
   "cell_type": "code",
   "execution_count": null,
   "metadata": {
    "collapsed": true
   },
   "outputs": [],
   "source": [
    "predict_prob = xgb_model.predict_proba(X_test)"
   ]
  },
  {
   "cell_type": "code",
   "execution_count": null,
   "metadata": {
    "collapsed": true
   },
   "outputs": [],
   "source": [
    "z = predict_prob[:, 1]"
   ]
  },
  {
   "cell_type": "code",
   "execution_count": null,
   "metadata": {
    "collapsed": true
   },
   "outputs": [],
   "source": [
    "submission = pd.DataFrame(test_data['victim_id'])\n",
    "submission['criticality'] = z"
   ]
  },
  {
   "cell_type": "code",
   "execution_count": null,
   "metadata": {
    "collapsed": true
   },
   "outputs": [],
   "source": [
    "submission.head()"
   ]
  },
  {
   "cell_type": "code",
   "execution_count": null,
   "metadata": {
    "collapsed": true
   },
   "outputs": [],
   "source": [
    "submission.to_csv('aplha_omega_submission.csv', index=False)"
   ]
  },
  {
   "cell_type": "code",
   "execution_count": null,
   "metadata": {
    "collapsed": true
   },
   "outputs": [],
   "source": [
    "xgb.plot_importance(xgb_model, height=4, xlabel='Importance', ylabel='Features')"
   ]
  },
  {
   "cell_type": "code",
   "execution_count": null,
   "metadata": {
    "collapsed": true
   },
   "outputs": [],
   "source": []
  },
  {
   "cell_type": "code",
   "execution_count": null,
   "metadata": {
    "collapsed": true
   },
   "outputs": [],
   "source": []
  },
  {
   "cell_type": "code",
   "execution_count": null,
   "metadata": {
    "collapsed": true
   },
   "outputs": [],
   "source": []
  },
  {
   "cell_type": "code",
   "execution_count": null,
   "metadata": {
    "collapsed": true
   },
   "outputs": [],
   "source": []
  },
  {
   "cell_type": "code",
   "execution_count": null,
   "metadata": {
    "collapsed": true
   },
   "outputs": [],
   "source": []
  },
  {
   "cell_type": "code",
   "execution_count": null,
   "metadata": {
    "collapsed": true
   },
   "outputs": [],
   "source": []
  },
  {
   "cell_type": "code",
   "execution_count": null,
   "metadata": {
    "collapsed": true
   },
   "outputs": [],
   "source": []
  },
  {
   "cell_type": "code",
   "execution_count": null,
   "metadata": {
    "collapsed": true
   },
   "outputs": [],
   "source": []
  },
  {
   "cell_type": "code",
   "execution_count": null,
   "metadata": {
    "collapsed": true
   },
   "outputs": [],
   "source": []
  },
  {
   "cell_type": "code",
   "execution_count": null,
   "metadata": {
    "collapsed": true
   },
   "outputs": [],
   "source": []
  },
  {
   "cell_type": "code",
   "execution_count": null,
   "metadata": {
    "collapsed": true
   },
   "outputs": [],
   "source": []
  },
  {
   "cell_type": "code",
   "execution_count": null,
   "metadata": {
    "collapsed": true
   },
   "outputs": [],
   "source": []
  },
  {
   "cell_type": "code",
   "execution_count": null,
   "metadata": {
    "collapsed": true
   },
   "outputs": [],
   "source": []
  },
  {
   "cell_type": "code",
   "execution_count": null,
   "metadata": {
    "collapsed": true
   },
   "outputs": [],
   "source": []
  },
  {
   "cell_type": "code",
   "execution_count": null,
   "metadata": {
    "collapsed": true
   },
   "outputs": [],
   "source": []
  },
  {
   "cell_type": "code",
   "execution_count": null,
   "metadata": {
    "collapsed": true
   },
   "outputs": [],
   "source": []
  },
  {
   "cell_type": "code",
   "execution_count": null,
   "metadata": {
    "collapsed": true
   },
   "outputs": [],
   "source": []
  }
 ],
 "metadata": {
  "kernelspec": {
   "display_name": "Python 2",
   "language": "python",
   "name": "python2"
  },
  "language_info": {
   "codemirror_mode": {
    "name": "ipython",
    "version": 2
   },
   "file_extension": ".py",
   "mimetype": "text/x-python",
   "name": "python",
   "nbconvert_exporter": "python",
   "pygments_lexer": "ipython2",
   "version": "2.7.13"
  }
 },
 "nbformat": 4,
 "nbformat_minor": 2
}
