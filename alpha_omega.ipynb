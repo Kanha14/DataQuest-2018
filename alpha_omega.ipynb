{
 "cells": [
  {
   "cell_type": "code",
   "execution_count": 1,
   "metadata": {},
   "outputs": [
    {
     "name": "stderr",
     "output_type": "stream",
     "text": [
      "/home/goyal/anaconda2/lib/python2.7/site-packages/sklearn/cross_validation.py:41: DeprecationWarning: This module was deprecated in version 0.18 in favor of the model_selection module into which all the refactored classes and functions are moved. Also note that the interface of the new CV iterators are different from that of this module. This module will be removed in 0.20.\n",
      "  \"This module will be removed in 0.20.\", DeprecationWarning)\n"
     ]
    }
   ],
   "source": [
    "import pandas as pd\n",
    "import numpy as np\n",
    "import matplotlib.pyplot as plt\n",
    "%matplotlib inline\n",
    "import seaborn as sns\n",
    "pd.set_option('display.max_columns', None)\n",
    "\n",
    "from sklearn.metrics import accuracy_score\n",
    "from sklearn.metrics import confusion_matrix\n",
    "from sklearn.metrics import auc\n",
    "from sklearn.metrics import roc_curve\n",
    "from sklearn.metrics import roc_auc_score\n",
    "from sklearn.cross_validation import train_test_split\n",
    "import xgboost as xgb"
   ]
  },
  {
   "cell_type": "code",
   "execution_count": 2,
   "metadata": {
    "collapsed": true
   },
   "outputs": [],
   "source": [
    "train_data = pd.read_csv('train_DaEJRFg.csv')\n",
    "test_data = pd.read_csv('test_TQDFDgg.csv')"
   ]
  },
  {
   "cell_type": "code",
   "execution_count": 3,
   "metadata": {},
   "outputs": [
    {
     "data": {
      "text/html": [
       "<div>\n",
       "<style>\n",
       "    .dataframe thead tr:only-child th {\n",
       "        text-align: right;\n",
       "    }\n",
       "\n",
       "    .dataframe thead th {\n",
       "        text-align: left;\n",
       "    }\n",
       "\n",
       "    .dataframe tbody tr th {\n",
       "        vertical-align: top;\n",
       "    }\n",
       "</style>\n",
       "<table border=\"1\" class=\"dataframe\">\n",
       "  <thead>\n",
       "    <tr style=\"text-align: right;\">\n",
       "      <th></th>\n",
       "      <th>victim_id</th>\n",
       "      <th>incident_time</th>\n",
       "      <th>incident_date</th>\n",
       "      <th>incident_location</th>\n",
       "      <th>incident_tehsil</th>\n",
       "      <th>cause_of_emergency</th>\n",
       "      <th>base_to_scene_distance</th>\n",
       "      <th>scene_to_hospital_distance</th>\n",
       "      <th>roadway_feature</th>\n",
       "      <th>road_type</th>\n",
       "      <th>surrounding_area</th>\n",
       "      <th>criticality</th>\n",
       "    </tr>\n",
       "  </thead>\n",
       "  <tbody>\n",
       "    <tr>\n",
       "      <th>0</th>\n",
       "      <td>VIC20120001987267</td>\n",
       "      <td>22:23:19</td>\n",
       "      <td>07-11-2012</td>\n",
       "      <td>Subhash Nagar</td>\n",
       "      <td>Raipur</td>\n",
       "      <td>Multiple Vehicular Incident</td>\n",
       "      <td>13</td>\n",
       "      <td>12</td>\n",
       "      <td>CUR</td>\n",
       "      <td>HIW</td>\n",
       "      <td>FOR</td>\n",
       "      <td>0</td>\n",
       "    </tr>\n",
       "    <tr>\n",
       "      <th>1</th>\n",
       "      <td>VIC20110002147887</td>\n",
       "      <td>20:23:09</td>\n",
       "      <td>02-11-2011</td>\n",
       "      <td>Coro Nation</td>\n",
       "      <td>Raipur</td>\n",
       "      <td>2 Wheeler accidents</td>\n",
       "      <td>1</td>\n",
       "      <td>5</td>\n",
       "      <td>CUR</td>\n",
       "      <td>HIW</td>\n",
       "      <td>AGL</td>\n",
       "      <td>0</td>\n",
       "    </tr>\n",
       "    <tr>\n",
       "      <th>2</th>\n",
       "      <td>VIC20090001391483</td>\n",
       "      <td>20:37:15</td>\n",
       "      <td>25-07-2009</td>\n",
       "      <td>Kewal Vihar</td>\n",
       "      <td>Raipur</td>\n",
       "      <td>Non motorised vehicle accidents(Bullock cart,B...</td>\n",
       "      <td>2</td>\n",
       "      <td>2</td>\n",
       "      <td>INT</td>\n",
       "      <td>LOC</td>\n",
       "      <td>HOSP</td>\n",
       "      <td>0</td>\n",
       "    </tr>\n",
       "    <tr>\n",
       "      <th>3</th>\n",
       "      <td>VIC20120000900722</td>\n",
       "      <td>15:20:22</td>\n",
       "      <td>19-05-2012</td>\n",
       "      <td>I S B T</td>\n",
       "      <td>Raipur</td>\n",
       "      <td>2 Wheeler accidents</td>\n",
       "      <td>8</td>\n",
       "      <td>4</td>\n",
       "      <td>CUR</td>\n",
       "      <td>HIW</td>\n",
       "      <td>HIL</td>\n",
       "      <td>0</td>\n",
       "    </tr>\n",
       "    <tr>\n",
       "      <th>4</th>\n",
       "      <td>VIC20100001241285</td>\n",
       "      <td>16:22:17</td>\n",
       "      <td>12-06-2010</td>\n",
       "      <td>Sahaspur Ambu</td>\n",
       "      <td>Sahaspur</td>\n",
       "      <td>2 Wheeler accidents</td>\n",
       "      <td>1</td>\n",
       "      <td>26</td>\n",
       "      <td>CUR</td>\n",
       "      <td>HIW</td>\n",
       "      <td>AGL</td>\n",
       "      <td>0</td>\n",
       "    </tr>\n",
       "  </tbody>\n",
       "</table>\n",
       "</div>"
      ],
      "text/plain": [
       "           victim_id incident_time incident_date incident_location  \\\n",
       "0  VIC20120001987267      22:23:19    07-11-2012     Subhash Nagar   \n",
       "1  VIC20110002147887      20:23:09    02-11-2011       Coro Nation   \n",
       "2  VIC20090001391483      20:37:15    25-07-2009       Kewal Vihar   \n",
       "3  VIC20120000900722      15:20:22    19-05-2012           I S B T   \n",
       "4  VIC20100001241285      16:22:17    12-06-2010     Sahaspur Ambu   \n",
       "\n",
       "  incident_tehsil                                 cause_of_emergency  \\\n",
       "0          Raipur                        Multiple Vehicular Incident   \n",
       "1          Raipur                                2 Wheeler accidents   \n",
       "2          Raipur  Non motorised vehicle accidents(Bullock cart,B...   \n",
       "3          Raipur                                2 Wheeler accidents   \n",
       "4        Sahaspur                                2 Wheeler accidents   \n",
       "\n",
       "   base_to_scene_distance  scene_to_hospital_distance roadway_feature  \\\n",
       "0                      13                          12             CUR   \n",
       "1                       1                           5             CUR   \n",
       "2                       2                           2             INT   \n",
       "3                       8                           4             CUR   \n",
       "4                       1                          26             CUR   \n",
       "\n",
       "  road_type surrounding_area  criticality  \n",
       "0       HIW              FOR            0  \n",
       "1       HIW              AGL            0  \n",
       "2       LOC             HOSP            0  \n",
       "3       HIW              HIL            0  \n",
       "4       HIW              AGL            0  "
      ]
     },
     "execution_count": 3,
     "metadata": {},
     "output_type": "execute_result"
    }
   ],
   "source": [
    "train_data.head()"
   ]
  },
  {
   "cell_type": "code",
   "execution_count": 4,
   "metadata": {},
   "outputs": [
    {
     "name": "stdout",
     "output_type": "stream",
     "text": [
      "incident_tehsil\n",
      "Raipur        4794\n",
      "Doiwala       3185\n",
      "Sahaspur      2320\n",
      "Vikasnagar     887\n",
      "Dehradun       315\n",
      "Chakrata       199\n",
      "Kalsi           77\n",
      "Name: incident_tehsil, dtype: int64\n",
      "cause_of_emergency\n",
      "2 Wheeler accidents                                                         7127\n",
      "MVC - Pedestrian (Run Over/Hit & Run)                                       1198\n",
      "Multiple Vehicular Incident                                                 1196\n",
      "Vehicle role over/Skid                                                       807\n",
      "Auto (3 Wheeler accidents)                                                   367\n",
      "Vehicle -Fall From Height etc.                                               341\n",
      "MCI                                                                          168\n",
      "MVC-Fixed object (Divider)                                                   147\n",
      "Railroad Train/Other Object                                                  138\n",
      "MVC-Thrown off from Vehicle                                                  117\n",
      "Non motorised vehicle accidents(Bullock cart,Bicycle,Rickshaw,Push cart)      97\n",
      "MVC-MV                                                                        43\n",
      "MVC-Non traffic inside a parked vehicle/Skidding                              17\n",
      "Extrication>20mts                                                             14\n",
      "Name: cause_of_emergency, dtype: int64\n",
      "roadway_feature\n",
      "CUR    4769\n",
      "INT    4492\n",
      "UNK    1477\n",
      "STR     543\n",
      "SLP     496\n",
      "Name: roadway_feature, dtype: int64\n",
      "road_type\n",
      "HIW    7840\n",
      "LOC    3937\n",
      "Name: road_type, dtype: int64\n"
     ]
    }
   ],
   "source": [
    "var = ['incident_tehsil', 'cause_of_emergency', 'roadway_feature', 'road_type']\n",
    "for var in var:\n",
    "    print (var)\n",
    "    print train_data[var].value_counts()"
   ]
  },
  {
   "cell_type": "code",
   "execution_count": 5,
   "metadata": {},
   "outputs": [
    {
     "data": {
      "text/plain": [
       "victim_id                     object\n",
       "incident_time                 object\n",
       "incident_date                 object\n",
       "incident_location             object\n",
       "incident_tehsil               object\n",
       "cause_of_emergency            object\n",
       "base_to_scene_distance         int64\n",
       "scene_to_hospital_distance     int64\n",
       "roadway_feature               object\n",
       "road_type                     object\n",
       "surrounding_area              object\n",
       "criticality                    int64\n",
       "dtype: object"
      ]
     },
     "execution_count": 5,
     "metadata": {},
     "output_type": "execute_result"
    }
   ],
   "source": [
    "train_data.dtypes"
   ]
  },
  {
   "cell_type": "code",
   "execution_count": 6,
   "metadata": {},
   "outputs": [
    {
     "data": {
      "text/plain": [
       "['victim_id',\n",
       " 'incident_time',\n",
       " 'incident_date',\n",
       " 'incident_location',\n",
       " 'incident_tehsil',\n",
       " 'cause_of_emergency',\n",
       " 'base_to_scene_distance',\n",
       " 'scene_to_hospital_distance',\n",
       " 'roadway_feature',\n",
       " 'road_type',\n",
       " 'surrounding_area',\n",
       " 'criticality']"
      ]
     },
     "execution_count": 6,
     "metadata": {},
     "output_type": "execute_result"
    }
   ],
   "source": [
    "list(train_data.columns.values)"
   ]
  },
  {
   "cell_type": "code",
   "execution_count": 7,
   "metadata": {},
   "outputs": [
    {
     "name": "stdout",
     "output_type": "stream",
     "text": [
      "Null values in victim_id are :0\n",
      "Null values in incident_time are :0\n",
      "Null values in incident_date are :0\n",
      "Null values in incident_location are :307\n",
      "Null values in incident_tehsil are :0\n",
      "Null values in cause_of_emergency are :0\n",
      "Null values in base_to_scene_distance are :0\n",
      "Null values in scene_to_hospital_distance are :0\n",
      "Null values in roadway_feature are :0\n",
      "Null values in road_type are :0\n",
      "Null values in surrounding_area are :0\n",
      "Null values in criticality are :0\n"
     ]
    }
   ],
   "source": [
    "for x in list(train_data.columns.values):\n",
    "    print \"Null values in \" + str(x) + \" are :\" + str(sum(train_data[x].isnull()))"
   ]
  },
  {
   "cell_type": "code",
   "execution_count": 8,
   "metadata": {},
   "outputs": [
    {
     "name": "stdout",
     "output_type": "stream",
     "text": [
      "Unique values in victim_id are :11777\n",
      "Unique values in incident_time are :10752\n",
      "Unique values in incident_date are :2107\n",
      "Unique values in incident_location are :5522\n",
      "Unique values in incident_tehsil are :7\n",
      "Unique values in cause_of_emergency are :14\n",
      "Unique values in base_to_scene_distance are :57\n",
      "Unique values in scene_to_hospital_distance are :86\n",
      "Unique values in roadway_feature are :5\n",
      "Unique values in road_type are :2\n",
      "Unique values in surrounding_area are :6\n",
      "Unique values in criticality are :2\n"
     ]
    }
   ],
   "source": [
    "for col in list(train_data.columns.values):\n",
    "    print \"Unique values in \" + str(col) + \" are :\" + str(len(train_data[col].unique()))"
   ]
  },
  {
   "cell_type": "code",
   "execution_count": 9,
   "metadata": {},
   "outputs": [
    {
     "data": {
      "text/html": [
       "<div>\n",
       "<style>\n",
       "    .dataframe thead tr:only-child th {\n",
       "        text-align: right;\n",
       "    }\n",
       "\n",
       "    .dataframe thead th {\n",
       "        text-align: left;\n",
       "    }\n",
       "\n",
       "    .dataframe tbody tr th {\n",
       "        vertical-align: top;\n",
       "    }\n",
       "</style>\n",
       "<table border=\"1\" class=\"dataframe\">\n",
       "  <thead>\n",
       "    <tr style=\"text-align: right;\">\n",
       "      <th></th>\n",
       "      <th>base_to_scene_distance</th>\n",
       "      <th>scene_to_hospital_distance</th>\n",
       "      <th>criticality</th>\n",
       "    </tr>\n",
       "  </thead>\n",
       "  <tbody>\n",
       "    <tr>\n",
       "      <th>base_to_scene_distance</th>\n",
       "      <td>1.000000</td>\n",
       "      <td>0.418133</td>\n",
       "      <td>0.059941</td>\n",
       "    </tr>\n",
       "    <tr>\n",
       "      <th>scene_to_hospital_distance</th>\n",
       "      <td>0.418133</td>\n",
       "      <td>1.000000</td>\n",
       "      <td>0.202170</td>\n",
       "    </tr>\n",
       "    <tr>\n",
       "      <th>criticality</th>\n",
       "      <td>0.059941</td>\n",
       "      <td>0.202170</td>\n",
       "      <td>1.000000</td>\n",
       "    </tr>\n",
       "  </tbody>\n",
       "</table>\n",
       "</div>"
      ],
      "text/plain": [
       "                            base_to_scene_distance  \\\n",
       "base_to_scene_distance                    1.000000   \n",
       "scene_to_hospital_distance                0.418133   \n",
       "criticality                               0.059941   \n",
       "\n",
       "                            scene_to_hospital_distance  criticality  \n",
       "base_to_scene_distance                        0.418133     0.059941  \n",
       "scene_to_hospital_distance                    1.000000     0.202170  \n",
       "criticality                                   0.202170     1.000000  "
      ]
     },
     "execution_count": 9,
     "metadata": {},
     "output_type": "execute_result"
    }
   ],
   "source": [
    "train_data.corr()"
   ]
  },
  {
   "cell_type": "code",
   "execution_count": 10,
   "metadata": {},
   "outputs": [
    {
     "name": "stdout",
     "output_type": "stream",
     "text": [
      "522\n",
      "410\n"
     ]
    }
   ],
   "source": [
    "data = train_data[train_data['criticality']==1]\n",
    "print len(data)\n",
    "print len((data['incident_location'].unique()))"
   ]
  },
  {
   "cell_type": "code",
   "execution_count": 11,
   "metadata": {},
   "outputs": [
    {
     "data": {
      "text/html": [
       "<div>\n",
       "<style>\n",
       "    .dataframe thead tr:only-child th {\n",
       "        text-align: right;\n",
       "    }\n",
       "\n",
       "    .dataframe thead th {\n",
       "        text-align: left;\n",
       "    }\n",
       "\n",
       "    .dataframe tbody tr th {\n",
       "        vertical-align: top;\n",
       "    }\n",
       "</style>\n",
       "<table border=\"1\" class=\"dataframe\">\n",
       "  <thead>\n",
       "    <tr style=\"text-align: right;\">\n",
       "      <th></th>\n",
       "      <th>victim_id</th>\n",
       "      <th>incident_time</th>\n",
       "      <th>incident_date</th>\n",
       "      <th>incident_location</th>\n",
       "      <th>incident_tehsil</th>\n",
       "      <th>cause_of_emergency</th>\n",
       "      <th>base_to_scene_distance</th>\n",
       "      <th>scene_to_hospital_distance</th>\n",
       "      <th>roadway_feature</th>\n",
       "      <th>road_type</th>\n",
       "      <th>surrounding_area</th>\n",
       "      <th>criticality</th>\n",
       "    </tr>\n",
       "  </thead>\n",
       "  <tbody>\n",
       "    <tr>\n",
       "      <th>count</th>\n",
       "      <td>11777</td>\n",
       "      <td>11777</td>\n",
       "      <td>11777</td>\n",
       "      <td>11470</td>\n",
       "      <td>11777</td>\n",
       "      <td>11777</td>\n",
       "      <td>11777.000000</td>\n",
       "      <td>11777.000000</td>\n",
       "      <td>11777</td>\n",
       "      <td>11777</td>\n",
       "      <td>11777</td>\n",
       "      <td>11777.000000</td>\n",
       "    </tr>\n",
       "    <tr>\n",
       "      <th>unique</th>\n",
       "      <td>11777</td>\n",
       "      <td>10752</td>\n",
       "      <td>2107</td>\n",
       "      <td>5521</td>\n",
       "      <td>7</td>\n",
       "      <td>14</td>\n",
       "      <td>NaN</td>\n",
       "      <td>NaN</td>\n",
       "      <td>5</td>\n",
       "      <td>2</td>\n",
       "      <td>6</td>\n",
       "      <td>NaN</td>\n",
       "    </tr>\n",
       "    <tr>\n",
       "      <th>top</th>\n",
       "      <td>VIC20140001197151</td>\n",
       "      <td>19:09:39</td>\n",
       "      <td>20-03-2011</td>\n",
       "      <td>Dehradun</td>\n",
       "      <td>Raipur</td>\n",
       "      <td>2 Wheeler accidents</td>\n",
       "      <td>NaN</td>\n",
       "      <td>NaN</td>\n",
       "      <td>CUR</td>\n",
       "      <td>HIW</td>\n",
       "      <td>AGL</td>\n",
       "      <td>NaN</td>\n",
       "    </tr>\n",
       "    <tr>\n",
       "      <th>freq</th>\n",
       "      <td>1</td>\n",
       "      <td>5</td>\n",
       "      <td>25</td>\n",
       "      <td>327</td>\n",
       "      <td>4794</td>\n",
       "      <td>7127</td>\n",
       "      <td>NaN</td>\n",
       "      <td>NaN</td>\n",
       "      <td>4769</td>\n",
       "      <td>7840</td>\n",
       "      <td>4847</td>\n",
       "      <td>NaN</td>\n",
       "    </tr>\n",
       "    <tr>\n",
       "      <th>mean</th>\n",
       "      <td>NaN</td>\n",
       "      <td>NaN</td>\n",
       "      <td>NaN</td>\n",
       "      <td>NaN</td>\n",
       "      <td>NaN</td>\n",
       "      <td>NaN</td>\n",
       "      <td>6.819648</td>\n",
       "      <td>7.628598</td>\n",
       "      <td>NaN</td>\n",
       "      <td>NaN</td>\n",
       "      <td>NaN</td>\n",
       "      <td>0.044324</td>\n",
       "    </tr>\n",
       "    <tr>\n",
       "      <th>std</th>\n",
       "      <td>NaN</td>\n",
       "      <td>NaN</td>\n",
       "      <td>NaN</td>\n",
       "      <td>NaN</td>\n",
       "      <td>NaN</td>\n",
       "      <td>NaN</td>\n",
       "      <td>5.920448</td>\n",
       "      <td>8.993419</td>\n",
       "      <td>NaN</td>\n",
       "      <td>NaN</td>\n",
       "      <td>NaN</td>\n",
       "      <td>0.205822</td>\n",
       "    </tr>\n",
       "    <tr>\n",
       "      <th>min</th>\n",
       "      <td>NaN</td>\n",
       "      <td>NaN</td>\n",
       "      <td>NaN</td>\n",
       "      <td>NaN</td>\n",
       "      <td>NaN</td>\n",
       "      <td>NaN</td>\n",
       "      <td>1.000000</td>\n",
       "      <td>0.000000</td>\n",
       "      <td>NaN</td>\n",
       "      <td>NaN</td>\n",
       "      <td>NaN</td>\n",
       "      <td>0.000000</td>\n",
       "    </tr>\n",
       "    <tr>\n",
       "      <th>25%</th>\n",
       "      <td>NaN</td>\n",
       "      <td>NaN</td>\n",
       "      <td>NaN</td>\n",
       "      <td>NaN</td>\n",
       "      <td>NaN</td>\n",
       "      <td>NaN</td>\n",
       "      <td>3.000000</td>\n",
       "      <td>2.000000</td>\n",
       "      <td>NaN</td>\n",
       "      <td>NaN</td>\n",
       "      <td>NaN</td>\n",
       "      <td>0.000000</td>\n",
       "    </tr>\n",
       "    <tr>\n",
       "      <th>50%</th>\n",
       "      <td>NaN</td>\n",
       "      <td>NaN</td>\n",
       "      <td>NaN</td>\n",
       "      <td>NaN</td>\n",
       "      <td>NaN</td>\n",
       "      <td>NaN</td>\n",
       "      <td>5.000000</td>\n",
       "      <td>5.000000</td>\n",
       "      <td>NaN</td>\n",
       "      <td>NaN</td>\n",
       "      <td>NaN</td>\n",
       "      <td>0.000000</td>\n",
       "    </tr>\n",
       "    <tr>\n",
       "      <th>75%</th>\n",
       "      <td>NaN</td>\n",
       "      <td>NaN</td>\n",
       "      <td>NaN</td>\n",
       "      <td>NaN</td>\n",
       "      <td>NaN</td>\n",
       "      <td>NaN</td>\n",
       "      <td>9.000000</td>\n",
       "      <td>10.000000</td>\n",
       "      <td>NaN</td>\n",
       "      <td>NaN</td>\n",
       "      <td>NaN</td>\n",
       "      <td>0.000000</td>\n",
       "    </tr>\n",
       "    <tr>\n",
       "      <th>max</th>\n",
       "      <td>NaN</td>\n",
       "      <td>NaN</td>\n",
       "      <td>NaN</td>\n",
       "      <td>NaN</td>\n",
       "      <td>NaN</td>\n",
       "      <td>NaN</td>\n",
       "      <td>89.000000</td>\n",
       "      <td>119.000000</td>\n",
       "      <td>NaN</td>\n",
       "      <td>NaN</td>\n",
       "      <td>NaN</td>\n",
       "      <td>1.000000</td>\n",
       "    </tr>\n",
       "  </tbody>\n",
       "</table>\n",
       "</div>"
      ],
      "text/plain": [
       "                victim_id incident_time incident_date incident_location  \\\n",
       "count               11777         11777         11777             11470   \n",
       "unique              11777         10752          2107              5521   \n",
       "top     VIC20140001197151      19:09:39    20-03-2011          Dehradun   \n",
       "freq                    1             5            25               327   \n",
       "mean                  NaN           NaN           NaN               NaN   \n",
       "std                   NaN           NaN           NaN               NaN   \n",
       "min                   NaN           NaN           NaN               NaN   \n",
       "25%                   NaN           NaN           NaN               NaN   \n",
       "50%                   NaN           NaN           NaN               NaN   \n",
       "75%                   NaN           NaN           NaN               NaN   \n",
       "max                   NaN           NaN           NaN               NaN   \n",
       "\n",
       "       incident_tehsil   cause_of_emergency  base_to_scene_distance  \\\n",
       "count            11777                11777            11777.000000   \n",
       "unique               7                   14                     NaN   \n",
       "top             Raipur  2 Wheeler accidents                     NaN   \n",
       "freq              4794                 7127                     NaN   \n",
       "mean               NaN                  NaN                6.819648   \n",
       "std                NaN                  NaN                5.920448   \n",
       "min                NaN                  NaN                1.000000   \n",
       "25%                NaN                  NaN                3.000000   \n",
       "50%                NaN                  NaN                5.000000   \n",
       "75%                NaN                  NaN                9.000000   \n",
       "max                NaN                  NaN               89.000000   \n",
       "\n",
       "        scene_to_hospital_distance roadway_feature road_type surrounding_area  \\\n",
       "count                 11777.000000           11777     11777            11777   \n",
       "unique                         NaN               5         2                6   \n",
       "top                            NaN             CUR       HIW              AGL   \n",
       "freq                           NaN            4769      7840             4847   \n",
       "mean                      7.628598             NaN       NaN              NaN   \n",
       "std                       8.993419             NaN       NaN              NaN   \n",
       "min                       0.000000             NaN       NaN              NaN   \n",
       "25%                       2.000000             NaN       NaN              NaN   \n",
       "50%                       5.000000             NaN       NaN              NaN   \n",
       "75%                      10.000000             NaN       NaN              NaN   \n",
       "max                     119.000000             NaN       NaN              NaN   \n",
       "\n",
       "         criticality  \n",
       "count   11777.000000  \n",
       "unique           NaN  \n",
       "top              NaN  \n",
       "freq             NaN  \n",
       "mean        0.044324  \n",
       "std         0.205822  \n",
       "min         0.000000  \n",
       "25%         0.000000  \n",
       "50%         0.000000  \n",
       "75%         0.000000  \n",
       "max         1.000000  "
      ]
     },
     "execution_count": 11,
     "metadata": {},
     "output_type": "execute_result"
    }
   ],
   "source": [
    "train_data.describe(include='all')"
   ]
  },
  {
   "cell_type": "code",
   "execution_count": 12,
   "metadata": {
    "collapsed": true
   },
   "outputs": [],
   "source": [
    "train_data['hour'] = train_data['incident_time'].str[:2].astype(int)\n",
    "train_data['minute'] = train_data['incident_time'].str[3:5].astype(int)\n",
    "train_data['second'] = train_data['incident_time'].str[6:].astype(int)\n",
    "\n",
    "test_data['hour'] = test_data['incident_time'].str[:2].astype(int)\n",
    "test_data['minute'] = test_data['incident_time'].str[3:5].astype(int)\n",
    "test_data['second'] = test_data['incident_time'].str[6:].astype(int)"
   ]
  },
  {
   "cell_type": "code",
   "execution_count": 13,
   "metadata": {
    "collapsed": true
   },
   "outputs": [],
   "source": [
    "train_data['date'] = train_data['incident_date'].str[:2].astype(int)\n",
    "train_data['month'] = train_data['incident_date'].str[3:5].astype(int)\n",
    "train_data['year'] = train_data['incident_date'].str[6:].astype(int)\n",
    "\n",
    "test_data['date'] = test_data['incident_date'].str[:2].astype(int)\n",
    "test_data['month'] = test_data['incident_date'].str[3:5].astype(int)\n",
    "test_data['year'] = test_data['incident_date'].str[6:].astype(int)"
   ]
  },
  {
   "cell_type": "code",
   "execution_count": 14,
   "metadata": {},
   "outputs": [
    {
     "name": "stdout",
     "output_type": "stream",
     "text": [
      "ISBT Road, Dehradun, Dehra Dūn, Uttarakhand, 248001, India\n",
      "(30.2895043, 78.0383102)\n"
     ]
    }
   ],
   "source": [
    "from geopy.geocoders import Nominatim\n",
    "geolocator = Nominatim()\n",
    "location = geolocator.geocode(\"ISBT raipur dehradun\") \n",
    "print(location.address)\n",
    "print((location.latitude, location.longitude))"
   ]
  },
  {
   "cell_type": "code",
   "execution_count": 15,
   "metadata": {},
   "outputs": [
    {
     "data": {
      "text/plain": [
       "array(['FOR', 'AGL', 'HOSP', 'HIL', 'MAR', 'COL'], dtype=object)"
      ]
     },
     "execution_count": 15,
     "metadata": {},
     "output_type": "execute_result"
    }
   ],
   "source": [
    "train_data['surrounding_area'].unique()"
   ]
  },
  {
   "cell_type": "code",
   "execution_count": 16,
   "metadata": {
    "collapsed": true
   },
   "outputs": [],
   "source": [
    "train_data.incident_tehsil.replace(['Raipur', 'Sahaspur', 'Dehradun', 'Doiwala', 'Vikasnagar',\n",
    "       'Chakrata', 'Kalsi'], [1, 2, 3, 4, 5, 6, 7], inplace=True)\n",
    "train_data.cause_of_emergency.replace(['Multiple Vehicular Incident', '2 Wheeler accidents',\n",
    "       'Non motorised vehicle accidents(Bullock cart,Bicycle,Rickshaw,Push cart)',\n",
    "       'MVC - Pedestrian (Run Over/Hit & Run)', 'Vehicle role over/Skid',\n",
    "       'Auto (3 Wheeler accidents)', 'MVC-Thrown off from Vehicle',\n",
    "       'MVC-Fixed object (Divider)', 'MCI',\n",
    "       'Vehicle -Fall From Height etc.', 'Railroad Train/Other Object',\n",
    "       'MVC-Non traffic inside a parked vehicle/Skidding', 'MVC-MV',\n",
    "       'Extrication>20mts'], [1, 2, 3, 4, 5, 6, 7, 8, 9, 10, 11, 12, 13, 14], inplace=True)\n",
    "train_data.road_type.replace(['HIW', 'LOC'], [1, 2], inplace=True)\n",
    "train_data.roadway_feature.replace(['CUR', 'INT', 'SLP', 'UNK', 'STR'], [1, 2, 3, 4, 5], inplace=True)\n",
    "train_data.surrounding_area.replace(['FOR', 'AGL', 'HOSP', 'HIL', 'MAR', 'COL'], [1, 2, 3, 4, 5, 6], inplace=True)"
   ]
  },
  {
   "cell_type": "code",
   "execution_count": 17,
   "metadata": {
    "collapsed": true
   },
   "outputs": [],
   "source": [
    "test_data.incident_tehsil.replace(['Raipur', 'Sahaspur', 'Dehradun', 'Doiwala', 'Vikasnagar',\n",
    "       'Chakrata', 'Kalsi'], [1, 2, 3, 4, 5, 6, 7], inplace=True)\n",
    "test_data.cause_of_emergency.replace(['Multiple Vehicular Incident', '2 Wheeler accidents',\n",
    "       'Non motorised vehicle accidents(Bullock cart,Bicycle,Rickshaw,Push cart)',\n",
    "       'MVC - Pedestrian (Run Over/Hit & Run)', 'Vehicle role over/Skid',\n",
    "       'Auto (3 Wheeler accidents)', 'MVC-Thrown off from Vehicle',\n",
    "       'MVC-Fixed object (Divider)', 'MCI',\n",
    "       'Vehicle -Fall From Height etc.', 'Railroad Train/Other Object',\n",
    "       'MVC-Non traffic inside a parked vehicle/Skidding', 'MVC-MV',\n",
    "       'Extrication>20mts'], [1, 2, 3, 4, 5, 6, 7, 8, 9, 10, 11, 12, 13, 14], inplace=True)\n",
    "test_data.road_type.replace(['HIW', 'LOC'], [1, 2], inplace=True)\n",
    "test_data.roadway_feature.replace(['CUR', 'INT', 'SLP', 'UNK', 'STR'], [1, 2, 3, 4, 5], inplace=True)\n",
    "test_data.surrounding_area.replace(['FOR', 'AGL', 'HOSP', 'HIL', 'MAR', 'COL'], [1, 2, 3, 4, 5, 6], inplace=True)"
   ]
  },
  {
   "cell_type": "code",
   "execution_count": 18,
   "metadata": {
    "collapsed": true
   },
   "outputs": [],
   "source": [
    "train_data['Date']=pd.to_datetime((train_data.year*10000+train_data.month*100+train_data.date).apply(str),format='%Y%m%d')\n",
    "\n",
    "test_data['Date']=pd.to_datetime((test_data.year*10000+test_data.month*100+test_data.date).apply(str),format='%Y%m%d')"
   ]
  },
  {
   "cell_type": "code",
   "execution_count": 19,
   "metadata": {
    "collapsed": true
   },
   "outputs": [],
   "source": [
    "train_data['weekday'] = train_data['Date'].dt.dayofweek\n",
    "test_data['weekday'] = test_data['Date'].dt.dayofweek"
   ]
  },
  {
   "cell_type": "code",
   "execution_count": 20,
   "metadata": {
    "collapsed": true
   },
   "outputs": [],
   "source": [
    "train_data['season'] = train_data['month']\n",
    "test_data['season'] = test_data['month']"
   ]
  },
  {
   "cell_type": "code",
   "execution_count": 21,
   "metadata": {
    "collapsed": true
   },
   "outputs": [],
   "source": [
    "train_data['season']=train_data['season'].replace([11,12,1,2], 1)\n",
    "train_data['season']=train_data['season'].replace([3,4,5,6], 2)\n",
    "train_data['season']=train_data['season'].replace([7,8,9,10], 3)\n",
    "\n",
    "test_data['season']=test_data['season'].replace([11,12,1,2], 1)\n",
    "test_data['season']=test_data['season'].replace([3,4,5,6], 2)\n",
    "test_data['season']=test_data['season'].replace([7,8,9,10], 3)"
   ]
  },
  {
   "cell_type": "code",
   "execution_count": 22,
   "metadata": {
    "collapsed": true
   },
   "outputs": [],
   "source": [
    "train_data['hour_bin'] = train_data['hour']\n",
    "test_data['hour_bin'] = test_data['hour']"
   ]
  },
  {
   "cell_type": "code",
   "execution_count": 23,
   "metadata": {
    "collapsed": true
   },
   "outputs": [],
   "source": [
    "train_data['hour_bin']=train_data['hour_bin'].replace([0,1,2,3,4,5], 1)\n",
    "train_data['hour_bin']=train_data['hour_bin'].replace([6,7,8,9,10,11], 2)\n",
    "train_data['hour_bin']=train_data['hour_bin'].replace([12,13,14,15,16,17], 3)\n",
    "train_data['hour_bin']=train_data['hour_bin'].replace([18,19,20,11,22,23], 4)\n",
    "\n",
    "test_data['hour_bin']=test_data['hour_bin'].replace([0,1,2,3,4,5], 1)\n",
    "test_data['hour_bin']=test_data['hour_bin'].replace([6,7,8,9,10,11], 2)\n",
    "test_data['hour_bin']=test_data['hour_bin'].replace([12,13,14,15,16,17], 3)\n",
    "test_data['hour_bin']=test_data['hour_bin'].replace([18,19,20,11,22,23], 4)"
   ]
  },
  {
   "cell_type": "code",
   "execution_count": 24,
   "metadata": {},
   "outputs": [
    {
     "data": {
      "text/html": [
       "<div>\n",
       "<style>\n",
       "    .dataframe thead tr:only-child th {\n",
       "        text-align: right;\n",
       "    }\n",
       "\n",
       "    .dataframe thead th {\n",
       "        text-align: left;\n",
       "    }\n",
       "\n",
       "    .dataframe tbody tr th {\n",
       "        vertical-align: top;\n",
       "    }\n",
       "</style>\n",
       "<table border=\"1\" class=\"dataframe\">\n",
       "  <thead>\n",
       "    <tr style=\"text-align: right;\">\n",
       "      <th></th>\n",
       "      <th>victim_id</th>\n",
       "      <th>incident_time</th>\n",
       "      <th>incident_date</th>\n",
       "      <th>incident_location</th>\n",
       "      <th>incident_tehsil</th>\n",
       "      <th>cause_of_emergency</th>\n",
       "      <th>base_to_scene_distance</th>\n",
       "      <th>scene_to_hospital_distance</th>\n",
       "      <th>roadway_feature</th>\n",
       "      <th>road_type</th>\n",
       "      <th>surrounding_area</th>\n",
       "      <th>criticality</th>\n",
       "      <th>hour</th>\n",
       "      <th>minute</th>\n",
       "      <th>second</th>\n",
       "      <th>date</th>\n",
       "      <th>month</th>\n",
       "      <th>year</th>\n",
       "      <th>Date</th>\n",
       "      <th>weekday</th>\n",
       "      <th>season</th>\n",
       "      <th>hour_bin</th>\n",
       "    </tr>\n",
       "  </thead>\n",
       "  <tbody>\n",
       "    <tr>\n",
       "      <th>0</th>\n",
       "      <td>VIC20120001987267</td>\n",
       "      <td>22:23:19</td>\n",
       "      <td>07-11-2012</td>\n",
       "      <td>Subhash Nagar</td>\n",
       "      <td>1</td>\n",
       "      <td>1</td>\n",
       "      <td>13</td>\n",
       "      <td>12</td>\n",
       "      <td>1</td>\n",
       "      <td>1</td>\n",
       "      <td>1</td>\n",
       "      <td>0</td>\n",
       "      <td>22</td>\n",
       "      <td>23</td>\n",
       "      <td>19</td>\n",
       "      <td>7</td>\n",
       "      <td>11</td>\n",
       "      <td>2012</td>\n",
       "      <td>2012-11-07</td>\n",
       "      <td>2</td>\n",
       "      <td>1</td>\n",
       "      <td>4</td>\n",
       "    </tr>\n",
       "    <tr>\n",
       "      <th>1</th>\n",
       "      <td>VIC20110002147887</td>\n",
       "      <td>20:23:09</td>\n",
       "      <td>02-11-2011</td>\n",
       "      <td>Coro Nation</td>\n",
       "      <td>1</td>\n",
       "      <td>2</td>\n",
       "      <td>1</td>\n",
       "      <td>5</td>\n",
       "      <td>1</td>\n",
       "      <td>1</td>\n",
       "      <td>2</td>\n",
       "      <td>0</td>\n",
       "      <td>20</td>\n",
       "      <td>23</td>\n",
       "      <td>9</td>\n",
       "      <td>2</td>\n",
       "      <td>11</td>\n",
       "      <td>2011</td>\n",
       "      <td>2011-11-02</td>\n",
       "      <td>2</td>\n",
       "      <td>1</td>\n",
       "      <td>4</td>\n",
       "    </tr>\n",
       "    <tr>\n",
       "      <th>2</th>\n",
       "      <td>VIC20090001391483</td>\n",
       "      <td>20:37:15</td>\n",
       "      <td>25-07-2009</td>\n",
       "      <td>Kewal Vihar</td>\n",
       "      <td>1</td>\n",
       "      <td>3</td>\n",
       "      <td>2</td>\n",
       "      <td>2</td>\n",
       "      <td>2</td>\n",
       "      <td>2</td>\n",
       "      <td>3</td>\n",
       "      <td>0</td>\n",
       "      <td>20</td>\n",
       "      <td>37</td>\n",
       "      <td>15</td>\n",
       "      <td>25</td>\n",
       "      <td>7</td>\n",
       "      <td>2009</td>\n",
       "      <td>2009-07-25</td>\n",
       "      <td>5</td>\n",
       "      <td>3</td>\n",
       "      <td>4</td>\n",
       "    </tr>\n",
       "    <tr>\n",
       "      <th>3</th>\n",
       "      <td>VIC20120000900722</td>\n",
       "      <td>15:20:22</td>\n",
       "      <td>19-05-2012</td>\n",
       "      <td>I S B T</td>\n",
       "      <td>1</td>\n",
       "      <td>2</td>\n",
       "      <td>8</td>\n",
       "      <td>4</td>\n",
       "      <td>1</td>\n",
       "      <td>1</td>\n",
       "      <td>4</td>\n",
       "      <td>0</td>\n",
       "      <td>15</td>\n",
       "      <td>20</td>\n",
       "      <td>22</td>\n",
       "      <td>19</td>\n",
       "      <td>5</td>\n",
       "      <td>2012</td>\n",
       "      <td>2012-05-19</td>\n",
       "      <td>5</td>\n",
       "      <td>2</td>\n",
       "      <td>3</td>\n",
       "    </tr>\n",
       "    <tr>\n",
       "      <th>4</th>\n",
       "      <td>VIC20100001241285</td>\n",
       "      <td>16:22:17</td>\n",
       "      <td>12-06-2010</td>\n",
       "      <td>Sahaspur Ambu</td>\n",
       "      <td>2</td>\n",
       "      <td>2</td>\n",
       "      <td>1</td>\n",
       "      <td>26</td>\n",
       "      <td>1</td>\n",
       "      <td>1</td>\n",
       "      <td>2</td>\n",
       "      <td>0</td>\n",
       "      <td>16</td>\n",
       "      <td>22</td>\n",
       "      <td>17</td>\n",
       "      <td>12</td>\n",
       "      <td>6</td>\n",
       "      <td>2010</td>\n",
       "      <td>2010-06-12</td>\n",
       "      <td>5</td>\n",
       "      <td>2</td>\n",
       "      <td>3</td>\n",
       "    </tr>\n",
       "  </tbody>\n",
       "</table>\n",
       "</div>"
      ],
      "text/plain": [
       "           victim_id incident_time incident_date incident_location  \\\n",
       "0  VIC20120001987267      22:23:19    07-11-2012     Subhash Nagar   \n",
       "1  VIC20110002147887      20:23:09    02-11-2011       Coro Nation   \n",
       "2  VIC20090001391483      20:37:15    25-07-2009       Kewal Vihar   \n",
       "3  VIC20120000900722      15:20:22    19-05-2012           I S B T   \n",
       "4  VIC20100001241285      16:22:17    12-06-2010     Sahaspur Ambu   \n",
       "\n",
       "   incident_tehsil  cause_of_emergency  base_to_scene_distance  \\\n",
       "0                1                   1                      13   \n",
       "1                1                   2                       1   \n",
       "2                1                   3                       2   \n",
       "3                1                   2                       8   \n",
       "4                2                   2                       1   \n",
       "\n",
       "   scene_to_hospital_distance  roadway_feature  road_type  surrounding_area  \\\n",
       "0                          12                1          1                 1   \n",
       "1                           5                1          1                 2   \n",
       "2                           2                2          2                 3   \n",
       "3                           4                1          1                 4   \n",
       "4                          26                1          1                 2   \n",
       "\n",
       "   criticality  hour  minute  second  date  month  year       Date  weekday  \\\n",
       "0            0    22      23      19     7     11  2012 2012-11-07        2   \n",
       "1            0    20      23       9     2     11  2011 2011-11-02        2   \n",
       "2            0    20      37      15    25      7  2009 2009-07-25        5   \n",
       "3            0    15      20      22    19      5  2012 2012-05-19        5   \n",
       "4            0    16      22      17    12      6  2010 2010-06-12        5   \n",
       "\n",
       "   season  hour_bin  \n",
       "0       1         4  \n",
       "1       1         4  \n",
       "2       3         4  \n",
       "3       2         3  \n",
       "4       2         3  "
      ]
     },
     "execution_count": 24,
     "metadata": {},
     "output_type": "execute_result"
    }
   ],
   "source": [
    "train_data.head()"
   ]
  },
  {
   "cell_type": "code",
   "execution_count": 25,
   "metadata": {},
   "outputs": [
    {
     "data": {
      "text/html": [
       "<div>\n",
       "<style>\n",
       "    .dataframe thead tr:only-child th {\n",
       "        text-align: right;\n",
       "    }\n",
       "\n",
       "    .dataframe thead th {\n",
       "        text-align: left;\n",
       "    }\n",
       "\n",
       "    .dataframe tbody tr th {\n",
       "        vertical-align: top;\n",
       "    }\n",
       "</style>\n",
       "<table border=\"1\" class=\"dataframe\">\n",
       "  <thead>\n",
       "    <tr style=\"text-align: right;\">\n",
       "      <th></th>\n",
       "      <th>victim_id</th>\n",
       "      <th>incident_time</th>\n",
       "      <th>incident_date</th>\n",
       "      <th>incident_location</th>\n",
       "      <th>incident_tehsil</th>\n",
       "      <th>cause_of_emergency</th>\n",
       "      <th>base_to_scene_distance</th>\n",
       "      <th>scene_to_hospital_distance</th>\n",
       "      <th>roadway_feature</th>\n",
       "      <th>road_type</th>\n",
       "      <th>surrounding_area</th>\n",
       "      <th>hour</th>\n",
       "      <th>minute</th>\n",
       "      <th>second</th>\n",
       "      <th>date</th>\n",
       "      <th>month</th>\n",
       "      <th>year</th>\n",
       "      <th>Date</th>\n",
       "      <th>weekday</th>\n",
       "      <th>season</th>\n",
       "      <th>hour_bin</th>\n",
       "    </tr>\n",
       "  </thead>\n",
       "  <tbody>\n",
       "    <tr>\n",
       "      <th>0</th>\n",
       "      <td>VIC20100001032706</td>\n",
       "      <td>15:46:12</td>\n",
       "      <td>19-05-2010</td>\n",
       "      <td>Chc Sahaspur</td>\n",
       "      <td>2</td>\n",
       "      <td>4</td>\n",
       "      <td>23</td>\n",
       "      <td>27</td>\n",
       "      <td>2</td>\n",
       "      <td>2</td>\n",
       "      <td>5</td>\n",
       "      <td>15</td>\n",
       "      <td>46</td>\n",
       "      <td>12</td>\n",
       "      <td>19</td>\n",
       "      <td>5</td>\n",
       "      <td>2010</td>\n",
       "      <td>2010-05-19</td>\n",
       "      <td>2</td>\n",
       "      <td>2</td>\n",
       "      <td>3</td>\n",
       "    </tr>\n",
       "    <tr>\n",
       "      <th>1</th>\n",
       "      <td>VIC20120000441519</td>\n",
       "      <td>16:55:28</td>\n",
       "      <td>18-03-2012</td>\n",
       "      <td>Doiwala Ambulance</td>\n",
       "      <td>4</td>\n",
       "      <td>1</td>\n",
       "      <td>5</td>\n",
       "      <td>21</td>\n",
       "      <td>1</td>\n",
       "      <td>1</td>\n",
       "      <td>2</td>\n",
       "      <td>16</td>\n",
       "      <td>55</td>\n",
       "      <td>28</td>\n",
       "      <td>18</td>\n",
       "      <td>3</td>\n",
       "      <td>2012</td>\n",
       "      <td>2012-03-18</td>\n",
       "      <td>6</td>\n",
       "      <td>2</td>\n",
       "      <td>3</td>\n",
       "    </tr>\n",
       "    <tr>\n",
       "      <th>2</th>\n",
       "      <td>VIC20130000014119</td>\n",
       "      <td>18:49:35</td>\n",
       "      <td>04-01-2013</td>\n",
       "      <td>Race Course Chowk</td>\n",
       "      <td>1</td>\n",
       "      <td>1</td>\n",
       "      <td>3</td>\n",
       "      <td>1</td>\n",
       "      <td>1</td>\n",
       "      <td>1</td>\n",
       "      <td>2</td>\n",
       "      <td>18</td>\n",
       "      <td>49</td>\n",
       "      <td>35</td>\n",
       "      <td>4</td>\n",
       "      <td>1</td>\n",
       "      <td>2013</td>\n",
       "      <td>2013-01-04</td>\n",
       "      <td>4</td>\n",
       "      <td>1</td>\n",
       "      <td>4</td>\n",
       "    </tr>\n",
       "    <tr>\n",
       "      <th>3</th>\n",
       "      <td>VIC20140000614145</td>\n",
       "      <td>16:22:55</td>\n",
       "      <td>31-05-2014</td>\n",
       "      <td>Selaqui</td>\n",
       "      <td>2</td>\n",
       "      <td>1</td>\n",
       "      <td>18</td>\n",
       "      <td>14</td>\n",
       "      <td>4</td>\n",
       "      <td>2</td>\n",
       "      <td>2</td>\n",
       "      <td>16</td>\n",
       "      <td>22</td>\n",
       "      <td>55</td>\n",
       "      <td>31</td>\n",
       "      <td>5</td>\n",
       "      <td>2014</td>\n",
       "      <td>2014-05-31</td>\n",
       "      <td>5</td>\n",
       "      <td>2</td>\n",
       "      <td>3</td>\n",
       "    </tr>\n",
       "    <tr>\n",
       "      <th>4</th>\n",
       "      <td>VIC20090002298916</td>\n",
       "      <td>15:35:15</td>\n",
       "      <td>08-12-2009</td>\n",
       "      <td>Ambari Mode,Dakpather</td>\n",
       "      <td>5</td>\n",
       "      <td>2</td>\n",
       "      <td>6</td>\n",
       "      <td>10</td>\n",
       "      <td>2</td>\n",
       "      <td>2</td>\n",
       "      <td>5</td>\n",
       "      <td>15</td>\n",
       "      <td>35</td>\n",
       "      <td>15</td>\n",
       "      <td>8</td>\n",
       "      <td>12</td>\n",
       "      <td>2009</td>\n",
       "      <td>2009-12-08</td>\n",
       "      <td>1</td>\n",
       "      <td>1</td>\n",
       "      <td>3</td>\n",
       "    </tr>\n",
       "  </tbody>\n",
       "</table>\n",
       "</div>"
      ],
      "text/plain": [
       "           victim_id incident_time incident_date      incident_location  \\\n",
       "0  VIC20100001032706      15:46:12    19-05-2010           Chc Sahaspur   \n",
       "1  VIC20120000441519      16:55:28    18-03-2012      Doiwala Ambulance   \n",
       "2  VIC20130000014119      18:49:35    04-01-2013      Race Course Chowk   \n",
       "3  VIC20140000614145      16:22:55    31-05-2014                Selaqui   \n",
       "4  VIC20090002298916      15:35:15    08-12-2009  Ambari Mode,Dakpather   \n",
       "\n",
       "   incident_tehsil  cause_of_emergency  base_to_scene_distance  \\\n",
       "0                2                   4                      23   \n",
       "1                4                   1                       5   \n",
       "2                1                   1                       3   \n",
       "3                2                   1                      18   \n",
       "4                5                   2                       6   \n",
       "\n",
       "   scene_to_hospital_distance  roadway_feature  road_type  surrounding_area  \\\n",
       "0                          27                2          2                 5   \n",
       "1                          21                1          1                 2   \n",
       "2                           1                1          1                 2   \n",
       "3                          14                4          2                 2   \n",
       "4                          10                2          2                 5   \n",
       "\n",
       "   hour  minute  second  date  month  year       Date  weekday  season  \\\n",
       "0    15      46      12    19      5  2010 2010-05-19        2       2   \n",
       "1    16      55      28    18      3  2012 2012-03-18        6       2   \n",
       "2    18      49      35     4      1  2013 2013-01-04        4       1   \n",
       "3    16      22      55    31      5  2014 2014-05-31        5       2   \n",
       "4    15      35      15     8     12  2009 2009-12-08        1       1   \n",
       "\n",
       "   hour_bin  \n",
       "0         3  \n",
       "1         3  \n",
       "2         4  \n",
       "3         3  \n",
       "4         3  "
      ]
     },
     "execution_count": 25,
     "metadata": {},
     "output_type": "execute_result"
    }
   ],
   "source": [
    "test_data.head()"
   ]
  },
  {
   "cell_type": "code",
   "execution_count": 26,
   "metadata": {
    "collapsed": true
   },
   "outputs": [],
   "source": [
    "X = train_data.drop(['victim_id','incident_time','incident_date','incident_location','criticality','Date', 'second', 'minute', 'hour', 'month'] ,axis=1)\n",
    "Y = train_data['criticality']"
   ]
  },
  {
   "cell_type": "code",
   "execution_count": 27,
   "metadata": {
    "collapsed": true
   },
   "outputs": [],
   "source": [
    "X_test = test_data.drop(['victim_id','incident_time','incident_date','incident_location','Date', 'second', 'minute','hour', 'month'], axis=1)"
   ]
  },
  {
   "cell_type": "code",
   "execution_count": 28,
   "metadata": {
    "collapsed": true
   },
   "outputs": [],
   "source": [
    "x_train,x_test,y_train,y_test=train_test_split(X,Y, test_size=0.20)"
   ]
  },
  {
   "cell_type": "code",
   "execution_count": 29,
   "metadata": {},
   "outputs": [
    {
     "name": "stderr",
     "output_type": "stream",
     "text": [
      "/home/goyal/anaconda2/lib/python2.7/site-packages/sklearn/preprocessing/label.py:151: DeprecationWarning: The truth value of an empty array is ambiguous. Returning False, but in future this will result in an error. Use `array.size > 0` to check that an array is not empty.\n",
      "  if diff:\n",
      "/home/goyal/anaconda2/lib/python2.7/site-packages/sklearn/preprocessing/label.py:151: DeprecationWarning: The truth value of an empty array is ambiguous. Returning False, but in future this will result in an error. Use `array.size > 0` to check that an array is not empty.\n",
      "  if diff:\n"
     ]
    }
   ],
   "source": [
    "from xgboost import XGBClassifier\n",
    "\n",
    "xgb_model = XGBClassifier(n_estimators=1000,\n",
    "                   max_depth=1,\n",
    "                   min_child_weight=11,\n",
    "                   learning_rate=0.1,\n",
    "                   subsample=0.75,\n",
    "                   colsample_bytree=0.9,\n",
    "                   gamma=0.0,\n",
    "                   objective='binary:logistic',\n",
    "                   nthread=4,\n",
    "                   scale_pos_weight=1,\n",
    "                   seed=7\n",
    "                  )\n",
    "\n",
    "xgb_model.fit(x_train, y_train)\n",
    "\n",
    "pred1 = xgb_model.predict(x_train)\n",
    "pred2 = xgb_model.predict(x_test)"
   ]
  },
  {
   "cell_type": "code",
   "execution_count": 30,
   "metadata": {
    "collapsed": true
   },
   "outputs": [],
   "source": [
    "predict_prob = xgb_model.predict_proba(X_test)"
   ]
  },
  {
   "cell_type": "code",
   "execution_count": 31,
   "metadata": {
    "collapsed": true
   },
   "outputs": [],
   "source": [
    "z = predict_prob[:, 1]"
   ]
  },
  {
   "cell_type": "code",
   "execution_count": 32,
   "metadata": {
    "collapsed": true
   },
   "outputs": [],
   "source": [
    "submission = pd.DataFrame(test_data['victim_id'])\n",
    "submission['criticality'] = z"
   ]
  },
  {
   "cell_type": "code",
   "execution_count": 33,
   "metadata": {},
   "outputs": [
    {
     "data": {
      "text/html": [
       "<div>\n",
       "<style>\n",
       "    .dataframe thead tr:only-child th {\n",
       "        text-align: right;\n",
       "    }\n",
       "\n",
       "    .dataframe thead th {\n",
       "        text-align: left;\n",
       "    }\n",
       "\n",
       "    .dataframe tbody tr th {\n",
       "        vertical-align: top;\n",
       "    }\n",
       "</style>\n",
       "<table border=\"1\" class=\"dataframe\">\n",
       "  <thead>\n",
       "    <tr style=\"text-align: right;\">\n",
       "      <th></th>\n",
       "      <th>victim_id</th>\n",
       "      <th>criticality</th>\n",
       "    </tr>\n",
       "  </thead>\n",
       "  <tbody>\n",
       "    <tr>\n",
       "      <th>0</th>\n",
       "      <td>VIC20100001032706</td>\n",
       "      <td>0.079783</td>\n",
       "    </tr>\n",
       "    <tr>\n",
       "      <th>1</th>\n",
       "      <td>VIC20120000441519</td>\n",
       "      <td>0.091042</td>\n",
       "    </tr>\n",
       "    <tr>\n",
       "      <th>2</th>\n",
       "      <td>VIC20130000014119</td>\n",
       "      <td>0.024410</td>\n",
       "    </tr>\n",
       "    <tr>\n",
       "      <th>3</th>\n",
       "      <td>VIC20140000614145</td>\n",
       "      <td>0.048332</td>\n",
       "    </tr>\n",
       "    <tr>\n",
       "      <th>4</th>\n",
       "      <td>VIC20090002298916</td>\n",
       "      <td>0.085032</td>\n",
       "    </tr>\n",
       "  </tbody>\n",
       "</table>\n",
       "</div>"
      ],
      "text/plain": [
       "           victim_id  criticality\n",
       "0  VIC20100001032706     0.079783\n",
       "1  VIC20120000441519     0.091042\n",
       "2  VIC20130000014119     0.024410\n",
       "3  VIC20140000614145     0.048332\n",
       "4  VIC20090002298916     0.085032"
      ]
     },
     "execution_count": 33,
     "metadata": {},
     "output_type": "execute_result"
    }
   ],
   "source": [
    "submission.head()"
   ]
  },
  {
   "cell_type": "code",
   "execution_count": 34,
   "metadata": {
    "collapsed": true
   },
   "outputs": [],
   "source": [
    "submission.to_csv('alpha_omega_submission.csv', index=False)"
   ]
  },
  {
   "cell_type": "code",
   "execution_count": 35,
   "metadata": {},
   "outputs": [
    {
     "data": {
      "text/plain": [
       "<matplotlib.axes._subplots.AxesSubplot at 0x7fcf1c1e6490>"
      ]
     },
     "execution_count": 35,
     "metadata": {},
     "output_type": "execute_result"
    },
    {
     "data": {
      "image/png": "[encoded data removed]",
      "text/plain": [
       "<matplotlib.figure.Figure at 0x7fcf1c1bf350>"
      ]
     },
     "metadata": {},
     "output_type": "display_data"
    }
   ],
   "source": [
    "xgb.plot_importance(xgb_model, height=4, xlabel='Importance', ylabel='Features')"
   ]
  },
  {
   "cell_type": "code",
   "execution_count": null,
   "metadata": {
    "collapsed": true
   },
   "outputs": [],
   "source": []
  }
 ],
 "metadata": {
  "kernelspec": {
   "display_name": "Python 2",
   "language": "python",
   "name": "python2"
  },
  "language_info": {
   "codemirror_mode": {
    "name": "ipython",
    "version": 2
   },
   "file_extension": ".py",
   "mimetype": "text/x-python",
   "name": "python",
   "nbconvert_exporter": "python",
   "pygments_lexer": "ipython2",
   "version": "2.7.13"
  }
 },
 "nbformat": 4,
 "nbformat_minor": 2
}
